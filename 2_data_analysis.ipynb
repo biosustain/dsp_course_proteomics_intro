{
 "cells": [
  {
   "cell_type": "markdown",
   "id": "93e2410d",
   "metadata": {},
   "source": [
    "# Data Analysis PXD040621\n",
    "\n",
    "Plan\n",
    "- read data and log2 transform intensity values\n",
    "- aggregate peptide intensities to protein intensities\n",
    "- format data from long to wide format\n",
    "- remove contaminant proteins\n",
    "- check for missing values\n",
    "- Clustermap of sample and proteins\n",
    "- differential analysis (Volcano Plots)\n",
    "- Enrichment Analysis\n",
    "- check for maltose update pathway (Fig. 3 in paper)"
   ]
  },
  {
   "cell_type": "code",
   "execution_count": null,
   "id": "b488ebcd",
   "metadata": {},
   "outputs": [],
   "source": [
    "from pathlib import Path\n",
    "\n",
    "import acore.differential_regulation\n",
    "import acore.enrichment_analysis\n",
    "import acore.normalization\n",
    "import matplotlib.pyplot as plt\n",
    "import numpy as np\n",
    "import pandas as pd\n",
    "import plotly.express as px\n",
    "import seaborn as sns\n",
    "import vuecore\n",
    "from acore.io.uniprot import fetch_annotations, process_annotations\n",
    "from vuecore.viz import get_enrichment_plots"
   ]
  },
  {
   "cell_type": "markdown",
   "id": "81c092e0",
   "metadata": {},
   "source": [
    "## Read in the data\n",
    "- `file_in`: input file with the quantified peptide data in MSstats format as provided by quantms\n",
    "\n",
    "The file can be downloaded from [Google Drive](https://drive.google.com/drive/folders/1Nm5Ha-tCvjU-B323BLhna1GwHdNpK_lU?usp=drive_link)"
   ]
  },
  {
   "cell_type": "code",
   "execution_count": null,
   "id": "b80a41bd",
   "metadata": {
    "lines_to_next_cell": 2,
    "tags": [
     "parameters"
    ]
   },
   "outputs": [],
   "source": [
    "file_in = \"data/PXD040621/processed/PXD040621.sdrf_openms_design_msstats_in.csv\"\n",
    "df = pd.read_csv(file_in, sep=\",\", header=0)  # .set_index([])\n",
    "df.head()"
   ]
  },
  {
   "cell_type": "markdown",
   "id": "839d67a9",
   "metadata": {},
   "source": [
    "define the output folder for our VueGen report which we will create later"
   ]
  },
  {
   "cell_type": "code",
   "execution_count": null,
   "id": "759d88a3",
   "metadata": {},
   "outputs": [],
   "source": [
    "out_dir = \"data/PXD040621/report/\"\n",
    "out_dir = Path(out_dir)\n",
    "out_dir.mkdir(parents=True, exist_ok=True)"
   ]
  },
  {
   "cell_type": "markdown",
   "id": "c0017329",
   "metadata": {},
   "source": [
    "We have the following columns in the data:\n",
    "\n",
    "```python\n",
    "cols = [\n",
    "    \"ProteinName\",\n",
    "    \"PeptideSequence\",\n",
    "    \"PrecursorCharge\",\n",
    "    \"FragmentIon\",\n",
    "    \"ProductCharge\",\n",
    "    \"IsotopeLabelType\",\n",
    "    \"Condition\",\n",
    "    \"BioReplicate\",\n",
    "    \"Run\",\n",
    "    \"Intensity\",\n",
    "    \"Reference\",\n",
    "]"
   ]
  },
  {
   "cell_type": "markdown",
   "id": "3c8a7881",
   "metadata": {},
   "source": [
    "## Log2 transform the intensity values\n",
    "- log2 transformations are common for lognormal distributed data"
   ]
  },
  {
   "cell_type": "code",
   "execution_count": null,
   "id": "f5b2d982",
   "metadata": {},
   "outputs": [],
   "source": [
    "df[\"Intensity\"] = np.log2(df[\"Intensity\"].astype(float))"
   ]
  },
  {
   "cell_type": "markdown",
   "id": "e87b9148",
   "metadata": {},
   "source": [
    "## Aggregate the peptide intensities to protein intensities\n",
    "- we use the median of the peptide intensities for each protein\n",
    "\n",
    "There are more sophisticated ways to do this, e.g. using MaxLFQ, iBAQ, FlashLFQ, DirectLFQ, etc."
   ]
  },
  {
   "cell_type": "code",
   "execution_count": null,
   "id": "c56e38bd",
   "metadata": {},
   "outputs": [],
   "source": [
    "proteins = (\n",
    "    df.groupby([\"ProteinName\", \"Reference\"])[\"Intensity\"].median().unstack(level=0)\n",
    ")\n",
    "proteins"
   ]
  },
  {
   "cell_type": "markdown",
   "id": "d944c616",
   "metadata": {},
   "source": [
    "## Remove contaminant proteins\n",
    "Remove the contaminant proteins which were added to the fasta file used in the data processing.\n",
    "Contaminant proteins are e.g. creation which gets into the sample from the human skin or hair\n",
    "when the sample is prepared.\n",
    "\n",
    "These are filtered out as they are most of the time not relevant, but a contamination."
   ]
  },
  {
   "cell_type": "code",
   "execution_count": null,
   "id": "d960edc7",
   "metadata": {},
   "outputs": [],
   "source": [
    "decoy_proteins = proteins.filter(like=\"CON_\", axis=1)\n",
    "proteins = proteins.drop(decoy_proteins.columns, axis=1)\n",
    "proteins"
   ]
  },
  {
   "cell_type": "markdown",
   "id": "3044564f",
   "metadata": {},
   "source": [
    "Create a label for each sample based on the metadata.\n",
    "- we will use a string in the sample name, but you can see how the metadata is organized"
   ]
  },
  {
   "cell_type": "code",
   "execution_count": null,
   "id": "ca9f2f90",
   "metadata": {},
   "outputs": [],
   "source": [
    "meta = df[[\"Condition\", \"BioReplicate\", \"Run\", \"Reference\"]].drop_duplicates()\n",
    "meta"
   ]
  },
  {
   "cell_type": "code",
   "execution_count": null,
   "id": "507bd727",
   "metadata": {},
   "outputs": [],
   "source": [
    "label_encoding = {0: \"control\", 1: \"10 µm sulforaphane\"}\n",
    "label_suf = pd.Series(\n",
    "    proteins.index.str.contains(\"_Suf_\").astype(int),\n",
    "    index=proteins.index,\n",
    "    name=\"label_suf\",\n",
    "    dtype=np.int8,\n",
    ").map(label_encoding)\n",
    "label_suf"
   ]
  },
  {
   "cell_type": "markdown",
   "id": "f6fd32bd",
   "metadata": {},
   "source": [
    "## Plot the data completeness for each protein."
   ]
  },
  {
   "cell_type": "code",
   "execution_count": null,
   "id": "a2f0e392",
   "metadata": {},
   "outputs": [],
   "source": [
    "view_name = \"Protein\"\n",
    "out_dir_subsection = out_dir / \"1_data\" / \"completeness\"\n",
    "out_dir_subsection.mkdir(parents=True, exist_ok=True)"
   ]
  },
  {
   "cell_type": "code",
   "execution_count": null,
   "id": "e7463108",
   "metadata": {},
   "outputs": [],
   "source": [
    "view_name = \"Protein\"\n",
    "ax = (\n",
    "    proteins.notna()\n",
    "    .sum()\n",
    "    .sort_values()\n",
    "    .plot(\n",
    "        rot=45,\n",
    "        ylabel=f\"Number of Samples {view_name.lower()} was observed in\",\n",
    "    )\n",
    ")\n",
    "ax.get_figure().savefig(\n",
    "    out_dir_subsection / f\"data_completeness_step_plot.png\",\n",
    "    bbox_inches=\"tight\",\n",
    "    dpi=300,\n",
    ")"
   ]
  },
  {
   "cell_type": "code",
   "execution_count": null,
   "id": "6742a0f5",
   "metadata": {},
   "outputs": [],
   "source": [
    "view_name = \"Protein\"\n",
    "ax = (\n",
    "    proteins.notna()\n",
    "    .sum()\n",
    "    .value_counts()\n",
    "    .sort_index(ascending=False)\n",
    "    .plot(\n",
    "        kind=\"bar\",\n",
    "        title=f\"Data Completeness per {view_name}\",\n",
    "        xlabel=f\"Number of Samples {view_name.lower()} was observed in\",\n",
    "        ylabel=f\"Number of {view_name}s\",\n",
    "        color=\"steelblue\",\n",
    "        figsize=(10, 6),\n",
    "    )\n",
    ")\n",
    "ax.get_figure().savefig(\n",
    "    out_dir_subsection / f\"data_completeness_bar_plot.png\",\n",
    "    bbox_inches=\"tight\",\n",
    "    dpi=300,\n",
    ")"
   ]
  },
  {
   "cell_type": "code",
   "execution_count": null,
   "id": "04216238",
   "metadata": {
    "lines_to_next_cell": 2
   },
   "outputs": [],
   "source": [
    "# Explode column names to examine split by '|'\n",
    "proteins_meta = (\n",
    "    proteins.columns.str.split(\"|\", expand=True)\n",
    "    .to_frame()\n",
    "    .dropna(how=\"any\", axis=1)\n",
    "    .reset_index(drop=True)\n",
    ")\n",
    "proteins_meta.columns = [\"Source\", \"ProteinName\", \"GeneName\"]\n",
    "proteins_meta[\"GeneName\"] = proteins_meta[\"GeneName\"].str.split(\"_\").str[0]\n",
    "proteins_meta.index = proteins.columns\n",
    "proteins_meta.index.name = \"identifier\"\n",
    "proteins_meta"
   ]
  },
  {
   "cell_type": "markdown",
   "id": "6b310fa9",
   "metadata": {},
   "source": [
    "For later convenience let's replace the identifier with the UNIPROT ID"
   ]
  },
  {
   "cell_type": "code",
   "execution_count": null,
   "id": "9cb9b385",
   "metadata": {},
   "outputs": [],
   "source": [
    "proteins.columns = proteins_meta[\"ProteinName\"]\n",
    "proteins"
   ]
  },
  {
   "cell_type": "markdown",
   "id": "591c8d29",
   "metadata": {},
   "source": [
    "And let's save a table with the data for inspection"
   ]
  },
  {
   "cell_type": "code",
   "execution_count": null,
   "id": "04d12a02",
   "metadata": {
    "lines_to_next_cell": 2
   },
   "outputs": [],
   "source": [
    "proteins_meta.to_csv(out_dir_subsection / \"proteins_identifiers.csv\")\n",
    "proteins.to_csv(out_dir_subsection / \"proteins.csv\")"
   ]
  },
  {
   "cell_type": "markdown",
   "id": "b04df3a4",
   "metadata": {},
   "source": [
    "## Hierarchical Clustering of data\n",
    "- using completely observed data only\n",
    "Find correlations in data"
   ]
  },
  {
   "cell_type": "code",
   "execution_count": null,
   "id": "789409a3",
   "metadata": {},
   "outputs": [],
   "source": [
    "out_dir_subsection = out_dir / \"1_data\" / \"clustermap\"\n",
    "out_dir_subsection.mkdir(parents=True, exist_ok=True)"
   ]
  },
  {
   "cell_type": "code",
   "execution_count": null,
   "id": "8e18bc27",
   "metadata": {},
   "outputs": [],
   "source": [
    "_group_labels = label_encoding.values()\n",
    "lut = dict(zip(_group_labels, [f\"C{i}\" for i in range(len(_group_labels))]))\n",
    "row_colors = label_suf.map(lut).rename(\"group color\")\n",
    "row_colors"
   ]
  },
  {
   "cell_type": "code",
   "execution_count": null,
   "id": "74ff8868",
   "metadata": {},
   "outputs": [],
   "source": [
    "vuecore.set_font_sizes(7)\n",
    "cg = sns.clustermap(\n",
    "    proteins.dropna(how=\"any\", axis=1),\n",
    "    method=\"ward\",\n",
    "    row_colors=row_colors,\n",
    "    figsize=(11, 6),\n",
    "    robust=True,\n",
    "    xticklabels=True,\n",
    "    yticklabels=True,\n",
    ")\n",
    "fig = cg.figure\n",
    "cg.ax_heatmap.set_xlabel(\"Proteins\")\n",
    "cg.ax_heatmap.set_ylabel(\"Sample ID\")\n",
    "vuecore.select_xticks(cg.ax_heatmap)\n",
    "handles = [\n",
    "    plt.Line2D([0], [0], marker=\"o\", color=\"w\", markerfacecolor=lut[name], markersize=8)\n",
    "    for name in lut\n",
    "]\n",
    "cg.ax_cbar.legend(\n",
    "    handles, _group_labels, title=\"Groups\", loc=\"lower left\", bbox_to_anchor=(2, 0.5)\n",
    ")\n",
    "fname = out_dir_subsection / \"clustermap_ward.png\"\n",
    "# vuecore.savefig(fig, fname, pdf=True, dpi=600, tight_layout=False)\n",
    "fig.savefig(\n",
    "    out_dir_subsection / \"clustermap_ward.png\",\n",
    "    bbox_inches=\"tight\",\n",
    "    dpi=300,\n",
    ")"
   ]
  },
  {
   "cell_type": "markdown",
   "id": "13b0665d",
   "metadata": {},
   "source": [
    "### Hierarchical Clustering of normalized data\n",
    "- using completely observed data only\n",
    "Checkout the [recipe on normalization methods](https://analytics-core.readthedocs.io/latest/api_examples/normalization_analysis.html)."
   ]
  },
  {
   "cell_type": "code",
   "execution_count": null,
   "id": "8e7eae8a",
   "metadata": {},
   "outputs": [],
   "source": [
    "normalization_method = \"median\"\n",
    "X = acore.normalization.normalize_data(\n",
    "    proteins.dropna(how=\"any\", axis=1), normalization_method\n",
    ")\n",
    "X"
   ]
  },
  {
   "cell_type": "code",
   "execution_count": null,
   "id": "929940c5",
   "metadata": {},
   "outputs": [],
   "source": [
    "X.median(axis=\"columns\")"
   ]
  },
  {
   "cell_type": "code",
   "execution_count": null,
   "id": "c7686728",
   "metadata": {},
   "outputs": [],
   "source": [
    "vuecore.set_font_sizes(7)\n",
    "cg = sns.clustermap(\n",
    "    X,\n",
    "    method=\"ward\",\n",
    "    row_colors=row_colors,\n",
    "    figsize=(11, 6),\n",
    "    robust=True,\n",
    "    xticklabels=True,\n",
    "    yticklabels=True,\n",
    ")\n",
    "fig = cg.figure\n",
    "cg.ax_heatmap.set_xlabel(\"Proteins\")\n",
    "cg.ax_heatmap.set_ylabel(\"Sample ID\")\n",
    "vuecore.select_xticks(cg.ax_heatmap)\n",
    "handles = [\n",
    "    plt.Line2D([0], [0], marker=\"o\", color=\"w\", markerfacecolor=lut[name], markersize=8)\n",
    "    for name in lut\n",
    "]\n",
    "cg.ax_cbar.legend(\n",
    "    handles, _group_labels, title=\"Groups\", loc=\"lower left\", bbox_to_anchor=(2, 0.5)\n",
    ")\n",
    "fname = out_dir_subsection / \"clustermap_ward.png\"\n",
    "# vuecore.savefig(fig, fname, pdf=True, dpi=600, tight_layout=False)\n",
    "fig.savefig(\n",
    "    out_dir_subsection / f\"clustermap_ward_{normalization_method}.png\",\n",
    "    bbox_inches=\"tight\",\n",
    "    dpi=300,\n",
    ")"
   ]
  },
  {
   "cell_type": "markdown",
   "id": "cef63f09",
   "metadata": {},
   "source": [
    "## Differential Regulation"
   ]
  },
  {
   "cell_type": "code",
   "execution_count": null,
   "id": "a027f2cf",
   "metadata": {},
   "outputs": [],
   "source": [
    "out_dir_subsection = out_dir / \"2_differential_regulation\"\n",
    "out_dir_subsection.mkdir(parents=True, exist_ok=True)"
   ]
  },
  {
   "cell_type": "code",
   "execution_count": null,
   "id": "8a983486",
   "metadata": {},
   "outputs": [],
   "source": [
    "view = proteins\n",
    "group = \"label_suf\"\n",
    "diff_reg = acore.differential_regulation.run_anova(\n",
    "    view.dropna(how=\"any\", axis=1).join(label_suf),\n",
    "    alpha=0.15,\n",
    "    drop_cols=[],\n",
    "    subject=None,\n",
    "    group=group,\n",
    ").sort_values(\"pvalue\", ascending=True)\n",
    "diff_reg[\"rejected\"] = diff_reg[\"rejected\"].astype(bool)\n",
    "diff_reg.sort_values(\"pvalue\")"
   ]
  },
  {
   "cell_type": "code",
   "execution_count": null,
   "id": "32d1a5d8",
   "metadata": {},
   "outputs": [],
   "source": [
    "diff_reg.sort_values(\"pvalue\").head(20)"
   ]
  },
  {
   "cell_type": "code",
   "execution_count": null,
   "id": "26f86fef",
   "metadata": {},
   "outputs": [],
   "source": [
    "diff_reg.plot(x=\"log2FC\", y=\"-log10 pvalue\", kind=\"scatter\", title=group)"
   ]
  },
  {
   "cell_type": "markdown",
   "id": "27fba37a",
   "metadata": {},
   "source": [
    "## Interactive Volcano Plot"
   ]
  },
  {
   "cell_type": "code",
   "execution_count": null,
   "id": "dd6e6a99",
   "metadata": {},
   "outputs": [],
   "source": [
    "str_cols = diff_reg.dtypes[diff_reg.dtypes == \"object\"].index.tolist()\n",
    "hover_data = {\n",
    "    \"rejected\": \":.0f\",\n",
    "    **{\n",
    "        c: \":.4f\"\n",
    "        for c in [\n",
    "            \"padj\",\n",
    "            \"FC\",\n",
    "        ]\n",
    "    },\n",
    "    **{c: True for c in str_cols},\n",
    "}\n",
    "fig = px.scatter(\n",
    "    diff_reg,\n",
    "    x=\"log2FC\",\n",
    "    y=\"-log10 pvalue\",\n",
    "    color=\"rejected\",\n",
    "    hover_data=hover_data,\n",
    "    width=1200,\n",
    "    height=800,\n",
    "    title=f\"Volcano plot for {view_name}s\",\n",
    ")\n",
    "fig"
   ]
  },
  {
   "cell_type": "markdown",
   "id": "751fecf5",
   "metadata": {},
   "source": [
    "Save result to subsection folder"
   ]
  },
  {
   "cell_type": "code",
   "execution_count": null,
   "id": "232f6a00",
   "metadata": {},
   "outputs": [],
   "source": [
    "fig.write_json(\n",
    "    out_dir_subsection / \"0_volcano_plot.json\",\n",
    "    pretty=False,\n",
    ")\n",
    "diff_reg.to_csv(out_dir_subsection / \"1_differential_regulation.csv\")"
   ]
  },
  {
   "cell_type": "markdown",
   "id": "8e112a52",
   "metadata": {},
   "source": [
    "## Enrichment Analysis"
   ]
  },
  {
   "cell_type": "code",
   "execution_count": null,
   "id": "a634fc20",
   "metadata": {},
   "outputs": [],
   "source": [
    "out_dir_subsection = out_dir / \"uniprot_annotations\"\n",
    "out_dir_subsection.mkdir(parents=True, exist_ok=True)"
   ]
  },
  {
   "cell_type": "markdown",
   "id": "ad38f288",
   "metadata": {},
   "source": [
    "Fetch the annotations from UniProt API."
   ]
  },
  {
   "cell_type": "code",
   "execution_count": null,
   "id": "bd025e1c",
   "metadata": {},
   "outputs": [],
   "source": [
    "fname_annotations = out_dir_subsection / \"annotations.csv\"\n",
    "try:\n",
    "    annotations = pd.read_csv(fname_annotations, index_col=0)\n",
    "    print(f\"Loaded annotations from {fname_annotations}\")\n",
    "except FileNotFoundError:\n",
    "    print(f\"Fetching annotations for {proteins.columns.size} UniProt IDs.\")\n",
    "    FIELDS = \"go_p,go_c,go_f\"\n",
    "    annotations = fetch_annotations(proteins.columns, fields=FIELDS)\n",
    "    annotations = process_annotations(annotations, fields=FIELDS)\n",
    "    # cache the annotations\n",
    "    fname_annotations.parent.mkdir(exist_ok=True, parents=True)\n",
    "    annotations.to_csv(fname_annotations, index=True)\n",
    "\n",
    "annotations"
   ]
  },
  {
   "cell_type": "code",
   "execution_count": null,
   "id": "950ad586",
   "metadata": {},
   "outputs": [],
   "source": [
    "enriched = acore.enrichment_analysis.run_up_down_regulation_enrichment(\n",
    "    regulation_data=diff_reg,\n",
    "    annotation=annotations,\n",
    "    min_detected_in_set=1,\n",
    "    lfc_cutoff=1,\n",
    "    correction_alpha=0.2,  # adjust the p-value to see more or less results\n",
    ")\n",
    "enriched"
   ]
  },
  {
   "cell_type": "code",
   "execution_count": null,
   "id": "e0681e2f",
   "metadata": {
    "lines_to_next_cell": 2
   },
   "outputs": [],
   "source": [
    "fig = get_enrichment_plots(\n",
    "    enriched,\n",
    "    identifier=\"anything\",  # ToDo: figure out what this does\n",
    "    args=dict(title=\"Enrichment Analysis\"),\n",
    ")\n",
    "fig = fig[0]\n",
    "fig.write_json(\n",
    "    out_dir_subsection / \"enrichment_analysis.json\",\n",
    "    pretty=True,\n",
    ")\n",
    "fig"
   ]
  },
  {
   "cell_type": "markdown",
   "id": "aece5be0",
   "metadata": {},
   "source": [
    "## Check for Maltose Uptake"
   ]
  },
  {
   "cell_type": "code",
   "execution_count": null,
   "id": "ca0433b2",
   "metadata": {},
   "outputs": [],
   "source": [
    "out_dir_subsection = out_dir / \"3_maltose_uptake\"\n",
    "out_dir_subsection.mkdir(parents=True, exist_ok=True)"
   ]
  },
  {
   "cell_type": "markdown",
   "id": "f1a90b45",
   "metadata": {},
   "source": [
    "apply filtering of 'differentially abundant proteins' as described in the paper\n",
    "> Differentially abundant proteins were determined as those with log2 fold-change\n",
    "> > 1 and < -1, and p < 0.05\n",
    "This means not multiple testing correction was applied."
   ]
  },
  {
   "cell_type": "code",
   "execution_count": null,
   "id": "3408208d",
   "metadata": {},
   "outputs": [],
   "source": [
    "view = diff_reg.query(\"pvalue < 0.05 and FC > 1\")  # .shape[0]\n",
    "view.to_csv(\n",
    "    out_dir_subsection / \"1_differently_regulated_as_in_paper.csv\",\n",
    "    index=False,\n",
    ")\n",
    "view"
   ]
  },
  {
   "cell_type": "markdown",
   "id": "1742f33d",
   "metadata": {},
   "source": [
    "Let's find the proteins highlighted in the volcano plot in Figure 3."
   ]
  },
  {
   "cell_type": "code",
   "execution_count": null,
   "id": "2c2b2e73",
   "metadata": {},
   "outputs": [],
   "source": [
    "highlighted_genes = [\"LamB\", \"MalE\", \"Malk\", \"CitF\", \"CitT\", \"CitE\", \"Frd\"]\n",
    "highlighted_genes = \"|\".join([p.upper() for p in highlighted_genes])\n",
    "highlighted_genes = proteins_meta.query(\n",
    "    f\"`GeneName`.str.contains('{highlighted_genes}')\"\n",
    ")\n",
    "highlighted_genes"
   ]
  },
  {
   "cell_type": "code",
   "execution_count": null,
   "id": "510bc7ae",
   "metadata": {},
   "outputs": [],
   "source": [
    "highlighted_proteins = \"|\".join([p.upper() for p in highlighted_genes[\"ProteinName\"]])\n",
    "view = diff_reg.query(f\"`identifier`.str.contains('{highlighted_proteins}')\")\n",
    "view.to_csv(\n",
    "    out_dir_subsection / \"2_highlighted_proteins_in_figure3.csv\",\n",
    "    index=False,\n",
    ")\n",
    "view"
   ]
  },
  {
   "cell_type": "markdown",
   "id": "8983b35a",
   "metadata": {},
   "source": [
    "How to explain the differences?"
   ]
  }
 ],
 "metadata": {
  "jupytext": {
   "cell_metadata_filter": "tags,-all",
   "formats": "ipynb,py:percent"
  },
  "kernelspec": {
   "display_name": "base",
   "language": "python",
   "name": "python3"
  }
 },
 "nbformat": 4,
 "nbformat_minor": 5
}
