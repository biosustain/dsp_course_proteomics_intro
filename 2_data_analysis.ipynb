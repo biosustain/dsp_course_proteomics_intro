{
 "cells": [
  {
   "cell_type": "markdown",
   "id": "cf202161",
   "metadata": {},
   "source": [
    "# Data Analysis PXD040621\n",
    "\n",
    "Plan\n",
    "- read data and log2 transform intensity values\n",
    "- aggregate peptide intensities to protein intensities\n",
    "- format data from long to wide format\n",
    "- remove contaminant proteins\n",
    "- check for missing values\n",
    "- Clustermap of sample and proteins\n",
    "- differential analysis (Volcano Plots)\n",
    "- Enrichment Analysis\n",
    "- check for maltose update pathway (Fig. 3 in paper)"
   ]
  },
  {
   "cell_type": "code",
   "execution_count": null,
   "id": "9dae0efe",
   "metadata": {},
   "outputs": [],
   "source": [
    "from pathlib import Path\n",
    "\n",
    "import acore.differential_regulation\n",
    "import acore.enrichment_analysis\n",
    "import acore.normalization\n",
    "import matplotlib.pyplot as plt\n",
    "import numpy as np\n",
    "import pandas as pd\n",
    "import plotly.express as px\n",
    "import scipy.stats\n",
    "import seaborn as sns\n",
    "import vuecore\n",
    "from acore.io.uniprot import fetch_annotations, process_annotations\n",
    "from vuecore.viz import get_enrichment_plots"
   ]
  },
  {
   "cell_type": "markdown",
   "id": "733d8f63",
   "metadata": {},
   "source": [
    "# Read in the data\n",
    "- `file_in`: input file with the quantified peptide data in MSstats format as provided by quantms\n",
    "\n",
    "The file can be downloaded from [Google Drive](https://drive.google.com/drive/folders/1Nm5Ha-tCvjU-B323BLhna1GwHdNpK_lU?usp=drive_link)"
   ]
  },
  {
   "cell_type": "code",
   "execution_count": null,
   "id": "b8d9782c",
   "metadata": {
    "lines_to_next_cell": 2,
    "tags": [
     "parameters"
    ]
   },
   "outputs": [],
   "source": [
    "file_in = \"data/PXD040621/processed/PXD040621.sdrf_openms_design_msstats_in.csv\"\n",
    "df = pd.read_csv(file_in, sep=\",\", header=0)  # .set_index([])\n",
    "df.head()"
   ]
  },
  {
   "cell_type": "markdown",
   "id": "fa403d9d",
   "metadata": {},
   "source": [
    "define the output folder for our VueGen report which we will create later"
   ]
  },
  {
   "cell_type": "code",
   "execution_count": null,
   "id": "8bac91c7",
   "metadata": {},
   "outputs": [],
   "source": [
    "out_dir = \"data/PXD040621/report/\"\n",
    "out_dir = Path(out_dir)\n",
    "out_dir.mkdir(parents=True, exist_ok=True)"
   ]
  },
  {
   "cell_type": "markdown",
   "id": "9a23b4c0",
   "metadata": {},
   "source": [
    "We have the following columns in the data:\n",
    "\n",
    "```python\n",
    "cols = [\n",
    "    \"ProteinName\",\n",
    "    \"PeptideSequence\",\n",
    "    \"PrecursorCharge\",\n",
    "    \"FragmentIon\",\n",
    "    \"ProductCharge\",\n",
    "    \"IsotopeLabelType\",\n",
    "    \"Condition\",\n",
    "    \"BioReplicate\",\n",
    "    \"Run\",\n",
    "    \"Intensity\",\n",
    "    \"Reference\",\n",
    "]"
   ]
  },
  {
   "cell_type": "markdown",
   "id": "a9d3d067",
   "metadata": {},
   "source": [
    "# Log2 transform the intensity values\n",
    "- log2 transformations are common for lognormal distributed data"
   ]
  },
  {
   "cell_type": "code",
   "execution_count": null,
   "id": "42e6ec96",
   "metadata": {},
   "outputs": [],
   "source": [
    "df[\"Intensity\"] = np.log2(df[\"Intensity\"].astype(float))\n",
    "df.head()"
   ]
  },
  {
   "cell_type": "markdown",
   "id": "29bbf68f",
   "metadata": {},
   "source": [
    "# Exploratory and Data Quality Plots (peptide level)\n",
    "df[\"BioReplicate\"] = df[\"BioReplicate\"].replace({5: 1, 6: 2, 7: 3, 8: 4})\n",
    "fg = sns.displot(\n",
    "    data=df.rename(columns={\"BioReplicate\": \"Rep\", \"Condition\": \"C.\"}),\n",
    "    x=\"Intensity\",\n",
    "    col=\"C.\",\n",
    "    row=\"Rep\",\n",
    "    # hue=\"Reactor_ID\",\n",
    "    kind=\"kde\",\n",
    "    height=2,\n",
    "    aspect=1.1,\n",
    ")"
   ]
  },
  {
   "cell_type": "markdown",
   "id": "d1223410",
   "metadata": {},
   "source": [
    "# Aggregate the peptide intensities to protein intensities\n",
    "- we use the median of the peptide intensities for each protein\n",
    "\n",
    "There are more sophisticated ways to do this, e.g. using MaxLFQ, iBAQ, FlashLFQ, DirectLFQ, etc.\n",
    "\n",
    "- shorten sample name for readability"
   ]
  },
  {
   "cell_type": "code",
   "execution_count": null,
   "id": "7ab074c0",
   "metadata": {},
   "outputs": [],
   "source": [
    "proteins = (\n",
    "    df.groupby([\"ProteinName\", \"Reference\"])[\"Intensity\"].median().unstack(level=0)\n",
    ")\n",
    "proteins.index = proteins.index.str.split(\"_\").str[4:6].str.join(\"_\")\n",
    "proteins"
   ]
  },
  {
   "cell_type": "markdown",
   "id": "c084a8b3",
   "metadata": {},
   "source": [
    "# Remove contaminant proteins\n",
    "Remove the contaminant proteins which were added to the fasta file used in the data processing.\n",
    "Contaminant proteins are e.g. creation which gets into the sample from the human skin or hair\n",
    "when the sample is prepared.\n",
    "\n",
    "These are filtered out as they are most of the time not relevant, but a contamination."
   ]
  },
  {
   "cell_type": "code",
   "execution_count": null,
   "id": "f24c782b",
   "metadata": {},
   "outputs": [],
   "source": [
    "decoy_proteins = proteins.filter(like=\"CON_\", axis=1)\n",
    "proteins = proteins.drop(decoy_proteins.columns, axis=1)\n",
    "proteins"
   ]
  },
  {
   "cell_type": "markdown",
   "id": "387f9f87",
   "metadata": {},
   "source": [
    "Create a label for each sample based on the metadata.\n",
    "- we will use a string in the sample name, but you can see how the metadata is organized"
   ]
  },
  {
   "cell_type": "code",
   "execution_count": null,
   "id": "d76c7878",
   "metadata": {},
   "outputs": [],
   "source": [
    "meta = df[[\"Condition\", \"BioReplicate\", \"Run\", \"Reference\"]].drop_duplicates()\n",
    "meta"
   ]
  },
  {
   "cell_type": "code",
   "execution_count": null,
   "id": "6e03d788",
   "metadata": {},
   "outputs": [],
   "source": [
    "label_encoding = {0: \"control\", 1: \"10 µm sulforaphane\"}\n",
    "label_suf = pd.Series(\n",
    "    proteins.index.str.contains(\"Suf_\").astype(int),\n",
    "    index=proteins.index,\n",
    "    name=\"label_suf\",\n",
    "    dtype=np.int8,\n",
    ").map(label_encoding)\n",
    "label_suf"
   ]
  },
  {
   "cell_type": "markdown",
   "id": "6362c64b",
   "metadata": {},
   "source": [
    "# Plot the data completeness for each protein."
   ]
  },
  {
   "cell_type": "code",
   "execution_count": null,
   "id": "a953b040",
   "metadata": {},
   "outputs": [],
   "source": [
    "view_name = \"Protein\"\n",
    "out_dir_subsection = out_dir / \"1_data\" / \"completeness\"\n",
    "out_dir_subsection.mkdir(parents=True, exist_ok=True)"
   ]
  },
  {
   "cell_type": "code",
   "execution_count": null,
   "id": "d4bcfbf6",
   "metadata": {},
   "outputs": [],
   "source": [
    "view_name = \"Protein\"\n",
    "ax = (\n",
    "    proteins.notna()\n",
    "    .sum()\n",
    "    .sort_values()\n",
    "    .plot(\n",
    "        rot=45,\n",
    "        ylabel=f\"Number of Samples {view_name.lower()} was observed in\",\n",
    "    )\n",
    ")\n",
    "ax.get_figure().savefig(\n",
    "    out_dir_subsection / f\"data_completeness_step_plot.png\",\n",
    "    bbox_inches=\"tight\",\n",
    "    dpi=300,\n",
    ")"
   ]
  },
  {
   "cell_type": "code",
   "execution_count": null,
   "id": "5ce119a5",
   "metadata": {},
   "outputs": [],
   "source": [
    "view_name = \"Protein\"\n",
    "ax = (\n",
    "    proteins.notna()\n",
    "    .sum()\n",
    "    .value_counts()\n",
    "    .sort_index(ascending=False)\n",
    "    .plot(\n",
    "        kind=\"bar\",\n",
    "        title=f\"Data Completeness per {view_name}\",\n",
    "        xlabel=f\"Number of Samples {view_name.lower()} was observed in\",\n",
    "        ylabel=f\"Number of {view_name}s\",\n",
    "        color=\"steelblue\",\n",
    "        figsize=(10, 6),\n",
    "    )\n",
    ")\n",
    "ax.get_figure().savefig(\n",
    "    out_dir_subsection / f\"data_completeness_bar_plot.png\",\n",
    "    bbox_inches=\"tight\",\n",
    "    dpi=300,\n",
    ")"
   ]
  },
  {
   "cell_type": "code",
   "execution_count": null,
   "id": "95e1e985",
   "metadata": {},
   "outputs": [],
   "source": [
    "# Explode column names to examine split by '|'\n",
    "proteins_meta = (\n",
    "    proteins.columns.str.split(\"|\", expand=True)\n",
    "    .to_frame()\n",
    "    .dropna(how=\"any\", axis=1)\n",
    "    .reset_index(drop=True)\n",
    ")\n",
    "proteins_meta.columns = [\"Source\", \"ProteinName\", \"GeneName\"]\n",
    "proteins_meta[\"GeneName\"] = proteins_meta[\"GeneName\"].str.split(\"_\").str[0]\n",
    "proteins_meta.index = proteins.columns\n",
    "proteins_meta.index.name = \"identifier\"\n",
    "proteins_meta"
   ]
  },
  {
   "cell_type": "markdown",
   "id": "6b0e07f0",
   "metadata": {},
   "source": [
    "For later in the enrichment analysis let's replace the protein identifier from the Fasta\n",
    "file with the UNIPROT ID"
   ]
  },
  {
   "cell_type": "code",
   "execution_count": null,
   "id": "0a8d7c46",
   "metadata": {},
   "outputs": [],
   "source": [
    "proteins.columns = proteins_meta[\"ProteinName\"].rename(\"UniprotID\")\n",
    "proteins"
   ]
  },
  {
   "cell_type": "markdown",
   "id": "0a96ab66",
   "metadata": {},
   "source": [
    "And let's save a table with the data for inspection"
   ]
  },
  {
   "cell_type": "code",
   "execution_count": null,
   "id": "59848240",
   "metadata": {},
   "outputs": [],
   "source": [
    "proteins_meta.to_csv(out_dir_subsection / \"proteins_identifiers.csv\")\n",
    "proteins.to_csv(out_dir_subsection / \"proteins.csv\")"
   ]
  },
  {
   "cell_type": "markdown",
   "id": "1f4cacfd",
   "metadata": {},
   "source": [
    "# Hierarchical Clustering of data\n",
    "- using completely observed data only\n",
    "Find correlations in data"
   ]
  },
  {
   "cell_type": "code",
   "execution_count": null,
   "id": "843510a1",
   "metadata": {},
   "outputs": [],
   "source": [
    "out_dir_subsection = out_dir / \"1_data\" / \"clustermap\"\n",
    "out_dir_subsection.mkdir(parents=True, exist_ok=True)"
   ]
  },
  {
   "cell_type": "code",
   "execution_count": null,
   "id": "3ce3857e",
   "metadata": {},
   "outputs": [],
   "source": [
    "_group_labels = label_encoding.values()\n",
    "lut = dict(zip(_group_labels, [f\"C{i}\" for i in range(len(_group_labels))]))\n",
    "row_colors = label_suf.map(lut).rename(\"group color\")\n",
    "row_colors"
   ]
  },
  {
   "cell_type": "code",
   "execution_count": null,
   "id": "230651ac",
   "metadata": {},
   "outputs": [],
   "source": [
    "vuecore.set_font_sizes(7)\n",
    "cg = sns.clustermap(\n",
    "    proteins.dropna(how=\"any\", axis=1),\n",
    "    method=\"ward\",\n",
    "    row_colors=row_colors,\n",
    "    figsize=(11, 6),\n",
    "    robust=True,\n",
    "    xticklabels=True,\n",
    "    yticklabels=True,\n",
    ")\n",
    "fig = cg.figure\n",
    "cg.ax_heatmap.set_xlabel(\"Proteins\")\n",
    "cg.ax_heatmap.set_ylabel(\"Sample ID\")\n",
    "vuecore.select_xticks(cg.ax_heatmap)\n",
    "handles = [\n",
    "    plt.Line2D([0], [0], marker=\"o\", color=\"w\", markerfacecolor=lut[name], markersize=8)\n",
    "    for name in lut\n",
    "]\n",
    "cg.ax_cbar.legend(\n",
    "    handles, _group_labels, title=\"Groups\", loc=\"lower left\", bbox_to_anchor=(2, 0.5)\n",
    ")\n",
    "fname = out_dir_subsection / \"clustermap_ward.png\"\n",
    "# vuecore.savefig(fig, fname, pdf=True, dpi=600, tight_layout=False)\n",
    "fig.savefig(\n",
    "    out_dir_subsection / \"clustermap_ward.png\",\n",
    "    bbox_inches=\"tight\",\n",
    "    dpi=300,\n",
    ")"
   ]
  },
  {
   "cell_type": "markdown",
   "id": "ae74387d",
   "metadata": {},
   "source": [
    "## Analytical Plots\n",
    "- data distribution (e.g. histogram)\n",
    "- coefficient of variation (CV)\n",
    "- number of identified proteins per sample"
   ]
  },
  {
   "cell_type": "code",
   "execution_count": null,
   "id": "c2de94d3",
   "metadata": {},
   "outputs": [],
   "source": [
    "# ToDo: bin width functionaity: bins should match between all plots (see pimms)\n",
    "ax = proteins.T.hist(layout=(2, 4), bins=20, sharex=True, sharey=True, figsize=(8, 4))"
   ]
  },
  {
   "cell_type": "markdown",
   "id": "d39bedbb",
   "metadata": {},
   "source": [
    "# Coefficient of Variation (CV)\n",
    "- CV = standard deviation / mean\n",
    "- per group"
   ]
  },
  {
   "cell_type": "code",
   "execution_count": null,
   "id": "fcbf3955",
   "metadata": {},
   "outputs": [],
   "source": [
    "df_cvs = (\n",
    "    proteins.groupby(label_suf)  # .join(metadata[grouping])\n",
    "    # .agg(scipy.stats.variation)\n",
    "    .agg([scipy.stats.variation, \"mean\"])  # .rename_axis([\"feat\", \"stat\"], axis=1)\n",
    ")\n",
    "df_cvs"
   ]
  },
  {
   "cell_type": "code",
   "execution_count": null,
   "id": "5a8da8e8",
   "metadata": {},
   "outputs": [],
   "source": [
    "df_cvs = df_cvs.stack(0, future_stack=True).reset_index().dropna()\n",
    "df_cvs"
   ]
  },
  {
   "cell_type": "code",
   "execution_count": null,
   "id": "2d6217b9",
   "metadata": {},
   "outputs": [],
   "source": [
    "default_args = dict(\n",
    "    facet_col=\"label_suf\",\n",
    "    # facet_row=\"Time\",\n",
    "    labels={\n",
    "        \"label_suf\": \"group\",\n",
    "        \"variation\": \"CV\",\n",
    "    },\n",
    ")\n",
    "fig = px.scatter(\n",
    "    data_frame=df_cvs,\n",
    "    x=\"variation\",\n",
    "    y=\"mean\",\n",
    "    trendline=\"ols\",\n",
    "    **default_args,\n",
    ")\n",
    "fname = \"cv_vs_mean\"\n",
    "? save\n",
    "fig"
   ]
  },
  {
   "cell_type": "markdown",
   "id": "f498ec63",
   "metadata": {},
   "source": [
    "## Hierarchical Clustering of normalized data\n",
    "- using completely observed data only\n",
    "Checkout the [recipe on normalization methods](https://analytics-core.readthedocs.io/latest/api_examples/normalization_analysis.html)."
   ]
  },
  {
   "cell_type": "code",
   "execution_count": null,
   "id": "afb86705",
   "metadata": {},
   "outputs": [],
   "source": [
    "normalization_method = \"median\"\n",
    "X = acore.normalization.normalize_data(\n",
    "    proteins.dropna(how=\"any\", axis=1), normalization_method\n",
    ")\n",
    "X"
   ]
  },
  {
   "cell_type": "code",
   "execution_count": null,
   "id": "aa586d9c",
   "metadata": {},
   "outputs": [],
   "source": [
    "X.median(axis=\"columns\")"
   ]
  },
  {
   "cell_type": "code",
   "execution_count": null,
   "id": "fd8bb056",
   "metadata": {},
   "outputs": [],
   "source": [
    "vuecore.set_font_sizes(7)\n",
    "cg = sns.clustermap(\n",
    "    X,\n",
    "    method=\"ward\",\n",
    "    row_colors=row_colors,\n",
    "    figsize=(11, 6),\n",
    "    robust=True,\n",
    "    xticklabels=True,\n",
    "    yticklabels=True,\n",
    ")\n",
    "fig = cg.figure\n",
    "cg.ax_heatmap.set_xlabel(\"Proteins\")\n",
    "cg.ax_heatmap.set_ylabel(\"Sample ID\")\n",
    "vuecore.select_xticks(cg.ax_heatmap)\n",
    "handles = [\n",
    "    plt.Line2D([0], [0], marker=\"o\", color=\"w\", markerfacecolor=lut[name], markersize=8)\n",
    "    for name in lut\n",
    "]\n",
    "cg.ax_cbar.legend(\n",
    "    handles, _group_labels, title=\"Groups\", loc=\"lower left\", bbox_to_anchor=(2, 0.5)\n",
    ")\n",
    "fname = out_dir_subsection / \"clustermap_ward.png\"\n",
    "# vuecore.savefig(fig, fname, pdf=True, dpi=600, tight_layout=False)\n",
    "fig.savefig(\n",
    "    out_dir_subsection / f\"clustermap_ward_{normalization_method}.png\",\n",
    "    bbox_inches=\"tight\",\n",
    "    dpi=300,\n",
    ")"
   ]
  },
  {
   "cell_type": "markdown",
   "id": "3c3815f1",
   "metadata": {},
   "source": [
    "# Differential Regulation"
   ]
  },
  {
   "cell_type": "code",
   "execution_count": null,
   "id": "77b75bd0",
   "metadata": {},
   "outputs": [],
   "source": [
    "out_dir_subsection = out_dir / \"2_differential_regulation\"\n",
    "out_dir_subsection.mkdir(parents=True, exist_ok=True)"
   ]
  },
  {
   "cell_type": "markdown",
   "id": "91b83d42",
   "metadata": {},
   "source": [
    "## Retain all proteins with at least 3 observations in each group\n",
    "- this is a requirement for a standard t-test\n",
    "- you could look into imputation methods to fill in missing values)\n",
    "  - protein in at least two samples per group?\n",
    "  - missing all in one condition?\n",
    "\n",
    "Let's not impute, but filter for proteins with at least 3 observations in each group"
   ]
  },
  {
   "cell_type": "code",
   "execution_count": null,
   "id": "f9f32554",
   "metadata": {},
   "outputs": [],
   "source": [
    "group_counts = proteins.groupby(label_suf).count()\n",
    "group_counts"
   ]
  },
  {
   "cell_type": "markdown",
   "id": "804734b2",
   "metadata": {},
   "source": [
    "Then we can filter the proteins to only those with at least 3 observations in each grou"
   ]
  },
  {
   "cell_type": "code",
   "execution_count": null,
   "id": "9c04178d",
   "metadata": {},
   "outputs": [],
   "source": [
    "mask = group_counts.groupby(\"label_suf\").transform(lambda x: x >= 3).all(axis=0)\n",
    "mask"
   ]
  },
  {
   "cell_type": "code",
   "execution_count": null,
   "id": "87f71ef2",
   "metadata": {},
   "outputs": [],
   "source": [
    "view = proteins.loc[:, mask].join(label_suf)\n",
    "group = \"label_suf\"\n",
    "diff_reg = acore.differential_regulation.run_anova(\n",
    "    view,\n",
    "    alpha=0.15,\n",
    "    drop_cols=[],\n",
    "    subject=None,\n",
    "    group=group,\n",
    ").sort_values(\"pvalue\", ascending=True)\n",
    "diff_reg[\"rejected\"] = diff_reg[\"rejected\"].astype(bool)\n",
    "diff_reg.sort_values(\"pvalue\")"
   ]
  },
  {
   "cell_type": "code",
   "execution_count": null,
   "id": "7974de03",
   "metadata": {},
   "outputs": [],
   "source": [
    "diff_reg.sort_values(\"pvalue\").head(20)"
   ]
  },
  {
   "cell_type": "code",
   "execution_count": null,
   "id": "33a1d2e1",
   "metadata": {},
   "outputs": [],
   "source": [
    "diff_reg.plot(x=\"log2FC\", y=\"-log10 pvalue\", kind=\"scatter\", title=group)"
   ]
  },
  {
   "cell_type": "markdown",
   "id": "0a89da0d",
   "metadata": {},
   "source": [
    "# Interactive Volcano Plot"
   ]
  },
  {
   "cell_type": "code",
   "execution_count": null,
   "id": "786250ab",
   "metadata": {},
   "outputs": [],
   "source": [
    "str_cols = diff_reg.dtypes[diff_reg.dtypes == \"object\"].index.tolist()\n",
    "hover_data = {\n",
    "    \"rejected\": \":.0f\",\n",
    "    **{\n",
    "        c: \":.4f\"\n",
    "        for c in [\n",
    "            \"padj\",\n",
    "            \"FC\",\n",
    "        ]\n",
    "    },\n",
    "    **{c: True for c in str_cols},\n",
    "}\n",
    "fig = px.scatter(\n",
    "    diff_reg,\n",
    "    x=\"log2FC\",\n",
    "    y=\"-log10 pvalue\",\n",
    "    color=\"rejected\",\n",
    "    hover_data=hover_data,\n",
    "    width=1200,\n",
    "    height=800,\n",
    "    title=f\"Volcano plot for {view_name}s\",\n",
    ")\n",
    "fig"
   ]
  },
  {
   "cell_type": "markdown",
   "id": "c5d8e345",
   "metadata": {},
   "source": [
    "Save result to subsection folder"
   ]
  },
  {
   "cell_type": "code",
   "execution_count": null,
   "id": "6a91b85a",
   "metadata": {},
   "outputs": [],
   "source": [
    "fig.write_json(\n",
    "    out_dir_subsection / \"0_volcano_plot.json\",\n",
    "    pretty=False,\n",
    ")\n",
    "diff_reg.to_csv(out_dir_subsection / \"1_differential_regulation.csv\")"
   ]
  },
  {
   "cell_type": "markdown",
   "id": "f5ab4296",
   "metadata": {},
   "source": [
    "# Enrichment Analysis"
   ]
  },
  {
   "cell_type": "code",
   "execution_count": null,
   "id": "1878db05",
   "metadata": {},
   "outputs": [],
   "source": [
    "out_dir_subsection = out_dir / \"uniprot_annotations\"\n",
    "out_dir_subsection.mkdir(parents=True, exist_ok=True)"
   ]
  },
  {
   "cell_type": "markdown",
   "id": "4a69555a",
   "metadata": {},
   "source": [
    "## Fetch the annotations from UniProt API."
   ]
  },
  {
   "cell_type": "code",
   "execution_count": null,
   "id": "b07ce4f0",
   "metadata": {},
   "outputs": [],
   "source": [
    "fname_annotations = out_dir_subsection / \"annotations.csv\"\n",
    "try:\n",
    "    annotations = pd.read_csv(fname_annotations, index_col=0)\n",
    "    print(f\"Loaded annotations from {fname_annotations}\")\n",
    "except FileNotFoundError:\n",
    "    print(f\"Fetching annotations for {proteins.columns.size} UniProt IDs.\")\n",
    "    FIELDS = \"go_p,go_c,go_f\"\n",
    "    annotations = fetch_annotations(proteins.columns, fields=FIELDS)\n",
    "    annotations = process_annotations(annotations, fields=FIELDS)\n",
    "    # cache the annotations\n",
    "    fname_annotations.parent.mkdir(exist_ok=True, parents=True)\n",
    "    annotations.to_csv(fname_annotations, index=True)\n",
    "\n",
    "annotations"
   ]
  },
  {
   "cell_type": "markdown",
   "id": "4f2e29dd",
   "metadata": {},
   "source": [
    "## Run the enrichment analysis\n",
    "- background is the set of identified proteins in the experiment (not the whole proteome\n",
    "  of the organisim, here E. coli)\n",
    "- The enrichment is performed separately for the up- and down-regulated proteins ('rejected'),\n",
    "  which are few in our example where we had to set the adjusted p-value to 0.15.\n",
    "\n",
    "In the enrichment we set the cutoff for the adjusted p-value to 0.2, which is\n",
    "a bit arbitrary to see some results."
   ]
  },
  {
   "cell_type": "code",
   "execution_count": null,
   "id": "5c259e15",
   "metadata": {},
   "outputs": [],
   "source": [
    "enriched = acore.enrichment_analysis.run_up_down_regulation_enrichment(\n",
    "    regulation_data=diff_reg,\n",
    "    annotation=annotations,\n",
    "    min_detected_in_set=1,\n",
    "    lfc_cutoff=1,\n",
    "    pval_col='padj', # toggle if it does not work\n",
    "    correction_alpha=0.2,  # adjust the p-value to see more or less results\n",
    ")\n",
    "enriched"
   ]
  },
  {
   "cell_type": "code",
   "execution_count": null,
   "id": "7a7588b5",
   "metadata": {},
   "outputs": [],
   "source": [
    "fig = get_enrichment_plots(\n",
    "    enriched,\n",
    "    identifier=\"anything\",  # ToDo: figure out what this does\n",
    "    args=dict(title=\"Enrichment Analysis\"),\n",
    ")\n",
    "fig = fig[0]\n",
    "fig.write_json(\n",
    "    out_dir_subsection / \"enrichment_analysis.json\",\n",
    "    pretty=True,\n",
    ")\n",
    "fig"
   ]
  },
  {
   "cell_type": "markdown",
   "id": "c288dbea",
   "metadata": {},
   "source": [
    "# Check for Maltose Uptake"
   ]
  },
  {
   "cell_type": "code",
   "execution_count": null,
   "id": "4bef1372",
   "metadata": {},
   "outputs": [],
   "source": [
    "out_dir_subsection = out_dir / \"3_maltose_uptake\"\n",
    "out_dir_subsection.mkdir(parents=True, exist_ok=True)"
   ]
  },
  {
   "cell_type": "markdown",
   "id": "523f49e6",
   "metadata": {},
   "source": [
    "apply filtering of 'differentially abundant proteins' as described in the paper\n",
    "> Differentially abundant proteins were determined as those with log2 fold-change\n",
    "> > 1 and < -1, and p < 0.05\n",
    "This means not multiple testing correction was applied."
   ]
  },
  {
   "cell_type": "code",
   "execution_count": null,
   "id": "9a7c6272",
   "metadata": {},
   "outputs": [],
   "source": [
    "view = diff_reg.query(\"pvalue < 0.05 and FC > 1\")  # .shape[0]\n",
    "view.to_csv(\n",
    "    out_dir_subsection / \"1_differently_regulated_as_in_paper.csv\",\n",
    "    index=False,\n",
    ")\n",
    "view"
   ]
  },
  {
   "cell_type": "markdown",
   "id": "39042297",
   "metadata": {},
   "source": [
    "Let's find the proteins highlighted in the volcano plot in Figure 3."
   ]
  },
  {
   "cell_type": "code",
   "execution_count": null,
   "id": "ed0257ab",
   "metadata": {},
   "outputs": [],
   "source": [
    "highlighted_genes = [\"LamB\", \"MalE\", \"Malk\", \"CitF\", \"CitT\", \"CitE\", \"Frd\"]\n",
    "highlighted_genes = \"|\".join([p.upper() for p in highlighted_genes])\n",
    "highlighted_genes = proteins_meta.query(\n",
    "    f\"`GeneName`.str.contains('{highlighted_genes}')\"\n",
    ")\n",
    "highlighted_genes"
   ]
  },
  {
   "cell_type": "code",
   "execution_count": null,
   "id": "350c249f",
   "metadata": {},
   "outputs": [],
   "source": [
    "highlighted_proteins = \"|\".join([p.upper() for p in highlighted_genes[\"ProteinName\"]])\n",
    "view = diff_reg.query(f\"`identifier`.str.contains('{highlighted_proteins}')\")\n",
    "view = view.set_index(\"identifier\").join(proteins_meta.set_index(\"ProteinName\"))\n",
    "view.to_csv(\n",
    "    out_dir_subsection / \"2_highlighted_proteins_in_figure3.csv\",\n",
    "    index=False,\n",
    ")\n",
    "sel_cols = [\n",
    "    \"identifier\",\n",
    "    \"GeneName\",\n",
    "    \"log2FC\",\n",
    "    \"pvalue\",\n",
    "    \"padj\",\n",
    "    \"rejected\",\n",
    "    \"group1\",\n",
    "    \"group2\",\n",
    "    \"Method\",\n",
    "]\n",
    "view.reset_index()[sel_cols].sort_values(\"log2FC\", ascending=False)"
   ]
  },
  {
   "cell_type": "markdown",
   "id": "4730816a",
   "metadata": {},
   "source": [
    "Let's see their original data"
   ]
  },
  {
   "cell_type": "code",
   "execution_count": null,
   "id": "b4c29c32",
   "metadata": {},
   "outputs": [],
   "source": [
    "view_proteins = (\n",
    "    proteins[highlighted_genes[\"ProteinName\"].to_list()].T.join(\n",
    "        proteins_meta.set_index(\"ProteinName\")[\"GeneName\"]\n",
    "    )\n",
    ").set_index(\n",
    "    \"GeneName\", append=True\n",
    ").T  # to check]\n",
    "view_proteins.to_csv(\n",
    "    out_dir_subsection / \"3_highlighted_proteins_in_figure3_intensities.csv\",\n",
    "    index=True,\n",
    ")\n",
    "view_proteins"
   ]
  },
  {
   "cell_type": "markdown",
   "id": "46b87eb0",
   "metadata": {},
   "source": [
    "How to explain the differences?"
   ]
  }
 ],
 "metadata": {
  "jupytext": {
   "cell_metadata_filter": "tags,-all",
   "formats": "ipynb,py:percent"
  },
  "kernelspec": {
   "display_name": "Python 3 (ipykernel)",
   "language": "python",
   "name": "python3"
  }
 },
 "nbformat": 4,
 "nbformat_minor": 5
}
