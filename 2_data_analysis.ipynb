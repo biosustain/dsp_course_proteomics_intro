{
 "cells": [
  {
   "cell_type": "markdown",
   "id": "cec6a534",
   "metadata": {},
   "source": [
    "# Data Analysis PXD040621\n",
    "\n",
    "Plan\n",
    "- read data and log2 transform intensity values\n",
    "- aggregate peptide intensities to protein intensities\n",
    "- format data from long to wide format\n",
    "- remove contaminant proteins\n",
    "- check for missing values\n",
    "- differential analysis (Volcano Plots)\n",
    "- check for maltose update pathway (Fig. 3 in paper)"
   ]
  },
  {
   "cell_type": "code",
   "execution_count": null,
   "id": "dce40c2d",
   "metadata": {},
   "outputs": [],
   "source": [
    "from pathlib import Path\n",
    "\n",
    "import acore.differential_regulation\n",
    "import numpy as np\n",
    "import pandas as pd\n",
    "import plotly.express as px"
   ]
  },
  {
   "cell_type": "markdown",
   "id": "b0f00b66",
   "metadata": {},
   "source": [
    "## Read in the data\n",
    "- `file_in`: input file with the quantified peptide data in MSstats format as provided by quantms\n",
    "\n",
    "The file can be downloaded from [Google Drive](https://drive.google.com/drive/folders/1Nm5Ha-tCvjU-B323BLhna1GwHdNpK_lU?usp=drive_link)"
   ]
  },
  {
   "cell_type": "code",
   "execution_count": null,
   "id": "63ea3459",
   "metadata": {
    "lines_to_next_cell": 2,
    "tags": [
     "parameters"
    ]
   },
   "outputs": [],
   "source": [
    "file_in = \"data/PXD040621/processed/PXD040621.sdrf_openms_design_msstats_in.csv\"\n",
    "df = pd.read_csv(file_in, sep=\",\", header=0)  # .set_index([])\n",
    "df.head()"
   ]
  },
  {
   "cell_type": "markdown",
   "id": "5c9b1799",
   "metadata": {},
   "source": [
    "define the output folder for our VueGen report which we will create later"
   ]
  },
  {
   "cell_type": "code",
   "execution_count": null,
   "id": "eccc01d7",
   "metadata": {},
   "outputs": [],
   "source": [
    "out_dir = \"data/PXD040621/report/\"\n",
    "out_dir = Path(out_dir)\n",
    "out_dir.mkdir(parents=True, exist_ok=True)"
   ]
  },
  {
   "cell_type": "markdown",
   "id": "faae8af7",
   "metadata": {},
   "source": [
    "We have the following columns in the data:\n",
    "\n",
    "```python\n",
    "cols = [\n",
    "    \"ProteinName\",\n",
    "    \"PeptideSequence\",\n",
    "    \"PrecursorCharge\",\n",
    "    \"FragmentIon\",\n",
    "    \"ProductCharge\",\n",
    "    \"IsotopeLabelType\",\n",
    "    \"Condition\",\n",
    "    \"BioReplicate\",\n",
    "    \"Run\",\n",
    "    \"Intensity\",\n",
    "    \"Reference\",\n",
    "]"
   ]
  },
  {
   "cell_type": "markdown",
   "id": "ee91a499",
   "metadata": {},
   "source": [
    "## Log2 transform the intensity values\n",
    "- log2 transformations are common for lognormal distributed data"
   ]
  },
  {
   "cell_type": "code",
   "execution_count": null,
   "id": "22269320",
   "metadata": {},
   "outputs": [],
   "source": [
    "df[\"Intensity\"] = np.log2(df[\"Intensity\"].astype(float))"
   ]
  },
  {
   "cell_type": "markdown",
   "id": "607afabe",
   "metadata": {},
   "source": [
    "## Aggregate the peptide intensities to protein intensities\n",
    "- we use the median of the peptide intensities for each protein\n",
    "\n",
    "There are more sophisticated ways to do this, e.g. using MaxLFQ, iBAQ, FlashLFQ, DirectLFQ, etc."
   ]
  },
  {
   "cell_type": "code",
   "execution_count": null,
   "id": "b5408a14",
   "metadata": {},
   "outputs": [],
   "source": [
    "proteins = (\n",
    "    df.groupby([\"ProteinName\", \"Reference\"])[\"Intensity\"].median().unstack(level=0)\n",
    ")\n",
    "proteins"
   ]
  },
  {
   "cell_type": "markdown",
   "id": "65e424bd",
   "metadata": {},
   "source": [
    "## Remove contaminant proteins\n",
    "Remove the contaminant proteins which were added to the fasta file used in the data processing.\n",
    "Contaminant proteins are e.g. creation which gets into the sample from the human skin or hair\n",
    "when the sample is prepared.\n",
    "\n",
    "These are filtered out as they are most of the time not relevant, but a contamination."
   ]
  },
  {
   "cell_type": "code",
   "execution_count": null,
   "id": "cc8ad6bb",
   "metadata": {},
   "outputs": [],
   "source": [
    "decoy_proteins = proteins.filter(like=\"CON_\", axis=1)\n",
    "proteins = proteins.drop(decoy_proteins.columns, axis=1)\n",
    "proteins"
   ]
  },
  {
   "cell_type": "markdown",
   "id": "462d33ef",
   "metadata": {},
   "source": [
    "Create a label for each sample based on the metadata.\n",
    "- we will use a string in the sample name, but you can see how the metadata is organized"
   ]
  },
  {
   "cell_type": "code",
   "execution_count": null,
   "id": "38af5a43",
   "metadata": {},
   "outputs": [],
   "source": [
    "meta = df[[\"Condition\", \"BioReplicate\", \"Run\", \"Reference\"]].drop_duplicates()\n",
    "meta"
   ]
  },
  {
   "cell_type": "code",
   "execution_count": null,
   "id": "a2f9940f",
   "metadata": {},
   "outputs": [],
   "source": [
    "label_suf = pd.Series(\n",
    "    proteins.index.str.contains(\"_Suf_\").astype(int),\n",
    "    index=proteins.index,\n",
    "    name=\"label_suf\",\n",
    "    dtype=np.int8,\n",
    ")\n",
    "label_suf"
   ]
  },
  {
   "cell_type": "markdown",
   "id": "14c8cf32",
   "metadata": {},
   "source": [
    "## Plot the data completeness for each protein."
   ]
  },
  {
   "cell_type": "code",
   "execution_count": null,
   "id": "7d384caa",
   "metadata": {},
   "outputs": [],
   "source": [
    "view_name = \"Protein\"\n",
    "out_dir_subsection = out_dir / \"1_data\" / \"completeness\"\n",
    "out_dir_subsection.mkdir(parents=True, exist_ok=True)"
   ]
  },
  {
   "cell_type": "code",
   "execution_count": null,
   "id": "c0af659f",
   "metadata": {},
   "outputs": [],
   "source": [
    "view_name = \"Protein\"\n",
    "ax = (\n",
    "    proteins.notna()\n",
    "    .sum()\n",
    "    .sort_values()\n",
    "    .plot(\n",
    "        rot=45,\n",
    "        ylabel=f\"Number of Samples {view_name.lower()} was observed in\",\n",
    "    )\n",
    ")\n",
    "ax.get_figure().savefig(\n",
    "    out_dir_subsection / f\"data_completeness_step_plot.png\",\n",
    "    bbox_inches=\"tight\",\n",
    "    dpi=300,\n",
    ")"
   ]
  },
  {
   "cell_type": "code",
   "execution_count": null,
   "id": "602e5fd3",
   "metadata": {},
   "outputs": [],
   "source": [
    "view_name = \"Protein\"\n",
    "ax = (\n",
    "    proteins.notna()\n",
    "    .sum()\n",
    "    .value_counts()\n",
    "    .sort_index(ascending=False)\n",
    "    .plot(\n",
    "        kind=\"bar\",\n",
    "        title=f\"Data Completeness per {view_name}\",\n",
    "        xlabel=f\"Number of Samples {view_name.lower()} was observed in\",\n",
    "        ylabel=f\"Number of {view_name}s\",\n",
    "        color=\"steelblue\",\n",
    "        figsize=(10, 6),\n",
    "    )\n",
    ")\n",
    "ax.get_figure().savefig(\n",
    "    out_dir_subsection / f\"data_completeness_bar_plot.png\",\n",
    "    bbox_inches=\"tight\",\n",
    "    dpi=300,\n",
    ")"
   ]
  },
  {
   "cell_type": "markdown",
   "id": "2864126b",
   "metadata": {},
   "source": [
    "And let's save a table with the data for inspection"
   ]
  },
  {
   "cell_type": "code",
   "execution_count": null,
   "id": "d03512af",
   "metadata": {},
   "outputs": [],
   "source": [
    "proteins.to_csv(out_dir_subsection / \"proteins.csv\")"
   ]
  },
  {
   "cell_type": "markdown",
   "id": "4828c9be",
   "metadata": {},
   "source": [
    "## Differential Regulation"
   ]
  },
  {
   "cell_type": "code",
   "execution_count": null,
   "id": "9e02a3e1",
   "metadata": {},
   "outputs": [],
   "source": [
    "out_dir_subsection = out_dir / \"2_differential_regulation\"\n",
    "out_dir_subsection.mkdir(parents=True, exist_ok=True)"
   ]
  },
  {
   "cell_type": "code",
   "execution_count": null,
   "id": "2497d184",
   "metadata": {},
   "outputs": [],
   "source": [
    "view = proteins\n",
    "group = \"label_suf\"\n",
    "diff_reg = acore.differential_regulation.run_anova(\n",
    "    view.dropna(how=\"any\", axis=1).join(label_suf),\n",
    "    alpha=0.15,\n",
    "    drop_cols=[],\n",
    "    subject=None,\n",
    "    group=group,\n",
    ").sort_values(\"pvalue\", ascending=True)\n",
    "diff_reg[\"rejected\"] = diff_reg[\"rejected\"].astype(bool)\n",
    "diff_reg.sort_values(\"pvalue\")"
   ]
  },
  {
   "cell_type": "code",
   "execution_count": null,
   "id": "11eda79c",
   "metadata": {},
   "outputs": [],
   "source": [
    "diff_reg.plot(x=\"log2FC\", y=\"-log10 pvalue\", kind=\"scatter\", title=group)"
   ]
  },
  {
   "cell_type": "markdown",
   "id": "04c98928",
   "metadata": {},
   "source": [
    "## Interactive Volcano Plot"
   ]
  },
  {
   "cell_type": "code",
   "execution_count": null,
   "id": "75f1a738",
   "metadata": {},
   "outputs": [],
   "source": [
    "str_cols = diff_reg.dtypes[diff_reg.dtypes == \"object\"].index.tolist()\n",
    "hover_data = {\n",
    "    \"rejected\": \":.0f\",\n",
    "    **{\n",
    "        c: \":.4f\"\n",
    "        for c in [\n",
    "            \"padj\",\n",
    "            \"FC\",\n",
    "        ]\n",
    "    },\n",
    "    **{c: True for c in str_cols},\n",
    "}\n",
    "fig = px.scatter(\n",
    "    diff_reg,\n",
    "    x=\"log2FC\",\n",
    "    y=\"-log10 pvalue\",\n",
    "    color=\"rejected\",\n",
    "    hover_data=hover_data,\n",
    "    width=1200,\n",
    "    height=800,\n",
    "    title=f\"Volcano plot for {view_name}s\",\n",
    ")\n",
    "fig"
   ]
  },
  {
   "cell_type": "markdown",
   "id": "674b5549",
   "metadata": {},
   "source": [
    "Save result to subsection folder"
   ]
  },
  {
   "cell_type": "code",
   "execution_count": null,
   "id": "44bd72ce",
   "metadata": {},
   "outputs": [],
   "source": [
    "fig.write_json(\n",
    "    out_dir_subsection / \"0_volcano_plot.json\",\n",
    "    pretty=False,\n",
    ")\n",
    "diff_reg.to_csv(out_dir_subsection / \"1_differential_regulation.csv\")"
   ]
  },
  {
   "cell_type": "markdown",
   "id": "0cd397ba",
   "metadata": {},
   "source": [
    "## Check for Maltose Uptake"
   ]
  },
  {
   "cell_type": "code",
   "execution_count": null,
   "id": "fd94c842",
   "metadata": {},
   "outputs": [],
   "source": [
    "out_dir_subsection = out_dir / \"3_maltose_uptake\"\n",
    "out_dir_subsection.mkdir(parents=True, exist_ok=True)"
   ]
  },
  {
   "cell_type": "markdown",
   "id": "21087aef",
   "metadata": {},
   "source": [
    "apply filtering of 'differentially abundant proteins' as described in the paper\n",
    "> Differentially abundant proteins were determined as those with log2 fold-change\n",
    "> > 1 and < -1, and p < 0.05\n",
    "This means not multiple testing correction was applied."
   ]
  },
  {
   "cell_type": "code",
   "execution_count": null,
   "id": "933305b7",
   "metadata": {},
   "outputs": [],
   "source": [
    "view = diff_reg.query(\"pvalue < 0.05 and FC > 1\")  # .shape[0]\n",
    "view.to_csv(\n",
    "    out_dir_subsection / \"1_differently_regulated_as_in_paper.csv\",\n",
    "    index=False,\n",
    ")\n",
    "view"
   ]
  },
  {
   "cell_type": "markdown",
   "id": "5eca8858",
   "metadata": {},
   "source": [
    "Let's find the proteins highlighted in the volcano plot in Figure 3."
   ]
  },
  {
   "cell_type": "code",
   "execution_count": null,
   "id": "4ee86497",
   "metadata": {},
   "outputs": [],
   "source": [
    "highlighted_proteins = [\"LamB\", \"MalE\", \"Malk\", \"CitF\", \"CitT\", \"CitE\", \"Frd\"]\n",
    "highlighted_proteins = \"|\".join([p.upper() for p in highlighted_proteins])\n",
    "\n",
    "view  = diff_reg.query(f\"`identifier`.str.contains('{highlighted_proteins}')\")\n",
    "view.to_csv(\n",
    "    out_dir_subsection / \"2_highlighted_proteins_in_figure3.csv\",\n",
    "    index=False,\n",
    ")\n",
    "view"
   ]
  },
  {
   "cell_type": "markdown",
   "id": "5086d185",
   "metadata": {},
   "source": [
    "How to explain the differences?"
   ]
  }
 ],
 "metadata": {
  "jupytext": {
   "cell_metadata_filter": "tags,-all",
   "formats": "ipynb,py:percent"
  },
  "kernelspec": {
   "display_name": "Python 3 (ipykernel)",
   "language": "python",
   "name": "python3"
  }
 },
 "nbformat": 4,
 "nbformat_minor": 5
}
